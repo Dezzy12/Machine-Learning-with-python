{
 "cells": [
  {
   "cell_type": "code",
   "execution_count": 1,
   "id": "53d238ba-92ae-4b25-b7cd-8aac8595b1cd",
   "metadata": {},
   "outputs": [
    {
     "data": {
      "text/plain": [
       "'/home/desmond/IdeaProjects/python-projects/data analysis/day1'"
      ]
     },
     "execution_count": 1,
     "metadata": {},
     "output_type": "execute_result"
    }
   ],
   "source": [
    "pwd"
   ]
  },
  {
   "cell_type": "code",
   "execution_count": 1,
   "id": "973c0d28-8407-4dfa-b96c-9682e445d7e1",
   "metadata": {},
   "outputs": [],
   "source": [
    "import statistics as stats"
   ]
  },
  {
   "cell_type": "code",
   "execution_count": 2,
   "id": "3cdd033c-917c-4393-9aff-a05595659759",
   "metadata": {},
   "outputs": [],
   "source": [
    "data = [5, 3, 6, 8, 9, 12, 15]"
   ]
  },
  {
   "cell_type": "code",
   "execution_count": 3,
   "id": "9c00b4b5-cf04-430e-8645-802de7ac83be",
   "metadata": {},
   "outputs": [
    {
     "data": {
      "text/plain": [
       "8.285714285714286"
      ]
     },
     "execution_count": 3,
     "metadata": {},
     "output_type": "execute_result"
    }
   ],
   "source": [
    "stats.mean(data)"
   ]
  },
  {
   "cell_type": "code",
   "execution_count": 4,
   "id": "cd1ffce7-b76f-4fd8-90fa-125d6cdf088d",
   "metadata": {},
   "outputs": [
    {
     "data": {
      "text/plain": [
       "8"
      ]
     },
     "execution_count": 4,
     "metadata": {},
     "output_type": "execute_result"
    }
   ],
   "source": [
    "stats.median(data)"
   ]
  },
  {
   "cell_type": "code",
   "execution_count": 5,
   "id": "a6b336cb-26ec-41ef-87be-9f00d76b30db",
   "metadata": {},
   "outputs": [
    {
     "data": {
      "text/plain": [
       "5"
      ]
     },
     "execution_count": 5,
     "metadata": {},
     "output_type": "execute_result"
    }
   ],
   "source": [
    "stats.mode(data)"
   ]
  },
  {
   "cell_type": "code",
   "execution_count": 7,
   "id": "e0a32f1d-9fcd-435e-970b-2a0cbb945e08",
   "metadata": {},
   "outputs": [
    {
     "data": {
      "text/plain": [
       "17.238095238095237"
      ]
     },
     "execution_count": 7,
     "metadata": {},
     "output_type": "execute_result"
    }
   ],
   "source": [
    "stats.variance(data)"
   ]
  },
  {
   "cell_type": "code",
   "execution_count": 8,
   "id": "0b2c1596-f8db-447f-9bfb-aa0862c97b54",
   "metadata": {},
   "outputs": [
    {
     "data": {
      "text/plain": [
       "4.15187851918806"
      ]
     },
     "execution_count": 8,
     "metadata": {},
     "output_type": "execute_result"
    }
   ],
   "source": [
    "stats.stdev(data)"
   ]
  }
 ],
 "metadata": {
  "kernelspec": {
   "display_name": "Python 3 (ipykernel)",
   "language": "python",
   "name": "python3"
  },
  "language_info": {
   "codemirror_mode": {
    "name": "ipython",
    "version": 3
   },
   "file_extension": ".py",
   "mimetype": "text/x-python",
   "name": "python",
   "nbconvert_exporter": "python",
   "pygments_lexer": "ipython3",
   "version": "3.10.12"
  }
 },
 "nbformat": 4,
 "nbformat_minor": 5
}
